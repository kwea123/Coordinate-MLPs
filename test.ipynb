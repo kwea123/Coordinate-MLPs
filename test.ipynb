{
 "cells": [
  {
   "cell_type": "code",
   "execution_count": 14,
   "metadata": {},
   "outputs": [],
   "source": [
    "import torch\n",
    "from torch import nn\n",
    "\n",
    "class MLP(nn.Module):\n",
    "    def __init__(self, n_layers=4, n_hidden_units=256):\n",
    "        super().__init__()\n",
    "\n",
    "        module_list = [nn.Linear(2, n_hidden_units), nn.ReLU(True)]\n",
    "        for i in range(n_layers-1):\n",
    "            if i != n_layers-2:\n",
    "                module_list += [nn.Linear(n_hidden_units, n_hidden_units),\n",
    "                                nn.ReLU(True)]\n",
    "            else:\n",
    "                module_list += [nn.Linear(n_hidden_units, 3),\n",
    "                                nn.ReLU(True)]\n",
    "\n",
    "#         self.net = nn.ModuleList(module_list)\n",
    "        self.net = nn.Sequential(*module_list)\n",
    "\n",
    "    def forward(self, x):\n",
    "        \"\"\"\n",
    "        x: (B, 2)\n",
    "        \"\"\"\n",
    "        return self.net(x)"
   ]
  },
  {
   "cell_type": "code",
   "execution_count": 15,
   "metadata": {},
   "outputs": [],
   "source": [
    "mlp = MLP()"
   ]
  },
  {
   "cell_type": "code",
   "execution_count": 16,
   "metadata": {},
   "outputs": [],
   "source": [
    "x = torch.zeros(10, 2)"
   ]
  },
  {
   "cell_type": "code",
   "execution_count": 17,
   "metadata": {},
   "outputs": [
    {
     "data": {
      "text/plain": [
       "tensor([[0.0106, 0.0000, 0.0000],\n",
       "        [0.0106, 0.0000, 0.0000],\n",
       "        [0.0106, 0.0000, 0.0000],\n",
       "        [0.0106, 0.0000, 0.0000],\n",
       "        [0.0106, 0.0000, 0.0000],\n",
       "        [0.0106, 0.0000, 0.0000],\n",
       "        [0.0106, 0.0000, 0.0000],\n",
       "        [0.0106, 0.0000, 0.0000],\n",
       "        [0.0106, 0.0000, 0.0000],\n",
       "        [0.0106, 0.0000, 0.0000]], grad_fn=<ReluBackward0>)"
      ]
     },
     "execution_count": 17,
     "metadata": {},
     "output_type": "execute_result"
    }
   ],
   "source": [
    "mlp(x)"
   ]
  },
  {
   "cell_type": "code",
   "execution_count": null,
   "metadata": {},
   "outputs": [],
   "source": []
  }
 ],
 "metadata": {
  "interpreter": {
   "hash": "b6d99f8a3d779429d6d812c14281c66b035154c97826e66ebe35430752113084"
  },
  "kernelspec": {
   "display_name": "Python 3 (ipykernel)",
   "language": "python",
   "name": "python3"
  },
  "language_info": {
   "codemirror_mode": {
    "name": "ipython",
    "version": 3
   },
   "file_extension": ".py",
   "mimetype": "text/x-python",
   "name": "python",
   "nbconvert_exporter": "python",
   "pygments_lexer": "ipython3",
   "version": "3.8.13"
  }
 },
 "nbformat": 4,
 "nbformat_minor": 2
}
